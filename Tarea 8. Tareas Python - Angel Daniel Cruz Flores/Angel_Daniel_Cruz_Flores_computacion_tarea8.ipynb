{
  "cells": [
    {
      "cell_type": "markdown",
      "metadata": {
        "id": "6KiY-mUvfoWy"
      },
      "source": [
        "# Tarea 8: Más listas y ciclos for\n",
        "### Computación - 8108\n",
        "#### Facultad de Ciencias - UNAM\n",
        "#### Profesores: C. Fís. Omar Trejo, C. Fís. Iván Jiménez, Pedro Flores-Silva\n",
        "\n",
        "Instrucciones: Este notebook contiene una serie de ejercicios que deben ser resueltos. Cada ejercicio se encuentra en una celda, ya sea de código o Markdown. Debes crear una o dos *celdas debajo de cada ejercicio* con tu(s) respectiva(s) respuestas. No modifiques las celdas originales.\n",
        "Recuerda que para ejecutar el código de una celda, presionar `Ctlr + Enter` o bien el boton de `play` en el editor Jupyter notebook.\n",
        "\n",
        "Cada ejercicio tendrá diferente valor, y se indicará en la celda de éste. La calificación final será la suma de los puntos obtenidos en cada ejercicio. Se calificará considerando la calidad de la respuesta, la claridad de la explicación y la correctitud del código. Por ejemplo, si el código no ejecuta la respuesta correcta pero se da una idea textual, se demuestra que hay comprensión del problema y el código hace sentido para el revisor, se otorgará una calificación parcial. Esto es, las respuestas no solo se evaluarán como bien o mal, sino que se considerará el esfuerzo. \n",
        "\n",
        "El codigo que realices debes comentarlo donde creas necesario, no vale no hacer ningún comentario. Recuerda que los comentarios son importantes para que el código sea legible y entendible, éstos se agregan con el símbolo # ."
      ]
    },
    {
      "cell_type": "markdown",
      "metadata": {
        "id": "4bnptBCTfoW1"
      },
      "source": [
        "### Ejercicio 1 (1 punto):\n",
        "Considera la siguiente lista de números: `lista = [1, 2, 2, 2, 465, 465, 787, 788, 99, \"mundo\", \"hola mundo\", \"adios mundo\", \"hola mundo\"]`. A partir de la lista crea otra lista que contenga los elementos únicos e imprimela.\n",
        "\n",
        "No vale crear la lista manualmente, debes hacerlo con código.\n",
        "\n",
        "El resultado debe ser: `[1, 2, 99, 'mundo', 'hola mundo', 465, 787, 788, 'adios mundo']`"
      ]
    },
    {
      "cell_type": "code",
      "source": [
        "#Establecemos la lista base a partir de la cual se creará otra lista\n",
        "lista = [1, 2, 2, 2, 465, 465, 787, 788, 99, \"mundo\", \"hola mundo\", \"adios mundo\", \"hola nundo\"]\n",
        "\n",
        "#Usamos el comando set (conjunto) para obtener elementos únicos, se convierte al set de la lista base en una lista con el comando \"list\" y se le asigna el nombre de lista_1. \n",
        "lista_1 = list (set (lista))\n",
        "\n",
        "#Se imprime lista_1.\n",
        "print (lista_1)"
      ],
      "metadata": {
        "colab": {
          "base_uri": "https://localhost:8080/"
        },
        "id": "EJHf5ZdjgHFC",
        "outputId": "749458a5-4aec-4247-fef1-33c4dd40af26"
      },
      "execution_count": 2,
      "outputs": [
        {
          "output_type": "stream",
          "name": "stdout",
          "text": [
            "[1, 2, 99, 'adios mundo', 'mundo', 'hola nundo', 465, 787, 788, 'hola mundo']\n"
          ]
        }
      ]
    },
    {
      "cell_type": "markdown",
      "metadata": {
        "id": "RG5HL8eEfoW1"
      },
      "source": [
        "### Ejercicio 2 (4 puntos): Aproximación de $\\pi$\n",
        "Una de las formas más sencillas de calcular $\\pi$ es mediante la siguiente serie infinita de Leibniz:\n",
        "$$\\frac{\\pi}{4} = \\sum_{n=0}^{\\infty}\\frac{(-1)^{n}}{(2n+1)} = \\frac{1}{1} - \\frac{1}{3} + \\frac{1}{5}-\\frac{1}{7}+\\frac{1}{9}-...$$\n",
        "\n",
        "crea un programa para aproximar $\\pi$ utilizando la serie de Leibniz. Usa n = 100000, imprime el valor de tu aproximación tanto el valor de $\\frac{\\pi}{4}$ como $\\pi$.\n",
        "\n",
        "El valor de $\\pi$ se obtiene al despejar:\n",
        "$$\\pi = 4 * \\left(\\sum_{n=0}^{\\infty}\\frac{(-1)^{n}}{(2n+1)} \\right)$$\n",
        "\n",
        "La siguiente celda de codigo ofrece el valor de $\\frac{\\pi}{4}$"
      ]
    },
    {
      "cell_type": "code",
      "execution_count": null,
      "metadata": {
        "id": "KvEkJislfoW2",
        "outputId": "1de01d5c-5a17-4901-cd71-c92363892c26"
      },
      "outputs": [
        {
          "name": "stdout",
          "output_type": "stream",
          "text": [
            "El valor de pi/4 es aproximadamente 0.7853981633974483\n"
          ]
        }
      ],
      "source": [
        "import numpy as np\n",
        "#El valor de pi/4\n",
        "print(\"El valor de pi/4 es aproximadamente {}\".format(np.pi/4))"
      ]
    },
    {
      "cell_type": "code",
      "source": [
        "#Establecems un valor nulo\n",
        "a = 0\n",
        "\n",
        "#Programamos la serie de Leibninz para calcular el valor aproximado de pi usando el ciclo for \n",
        "for i in range (100001):\n",
        "  p = 4*((-1)**i)/((2*i)+1) + a\n",
        "  #Se le da el valor de \"p\" a \"a\" para que al momento de realizar la sumatoria, sume el valor obtenido la vez pasada\n",
        "  a=p\n",
        "\n",
        "#Imprimimos el valor aproximado de pi\n",
        "print(\"El valor de pi es, aproximadamente {}\" .format(p))"
      ],
      "metadata": {
        "colab": {
          "base_uri": "https://localhost:8080/"
        },
        "id": "rTmSw8FDjMbo",
        "outputId": "a1a7e93a-ebe0-478b-ad63-ea975b0e9696"
      },
      "execution_count": 1,
      "outputs": [
        {
          "output_type": "stream",
          "name": "stdout",
          "text": [
            "El valor de pi es, aproximadamente 3.1416026534897203\n"
          ]
        }
      ]
    },
    {
      "cell_type": "markdown",
      "metadata": {
        "id": "SLqzY_4EfoW3"
      },
      "source": [
        "### Ejercicio 3 (4 puntos): Sucesión monótona \n",
        "Una sucesión {$a_n$} es una colección de números relacionados entre sí, en la que se tiene en cuenta la posición relativa de cada número respecto al anterior. Por ejemplo, la sucesión $\\frac{1}{n} = 1, 1/2, 1/3, 1/4, ...$ es convergente a cero ya que cuando $n \\rightarrow \\infty$ el valor de $a_n$ se acerca a cero.\n",
        "\n",
        "Una sucesión podemos verla como una lista, tal que así `[1, 1/2, 1/3,1/10000]` (claramente con un valor maximo, pues en python no podemos tener infinitos elementos en una lista).\n",
        "\n",
        "Considera la sucesión $a_n = 3 - \\frac{1}{n}$, crea un programa que haga una lista con los primeros 10 mil terminos de dicha sucesion (no la imprimas).\n",
        "\n",
        "Imprime los últimos 15 elementos de la lista y discute en una celda Markdown si esta sucesión es convergente y hacía que valor converge. Investiga que condición debe cumplir para que una suceción sea monótona creciente y monótona decreciente, con ello responde si es creciente o decreciente.\t"
      ]
    },
    {
      "cell_type": "code",
      "source": [
        "#Creamos una lista Vacia\n",
        "lista=[]\n",
        "\n",
        "#Programamos la sucesión usando el ciclo for con i desde 1 a 10001, esto para evitar la división entre cero\n",
        "for i in range (1, 10001):\n",
        "  a_n = 3 - (1/i)\n",
        "  #Cada vez que obtenga el valor para An, los vamos añadiendo a la lista vacia\n",
        "  lista.append(a_n)\n",
        "\n",
        "#Imprimimos los últimos 15 elementos de la lista\n",
        "print (lista[-15:])"
      ],
      "metadata": {
        "colab": {
          "base_uri": "https://localhost:8080/"
        },
        "id": "dzwHpHoAnZxx",
        "outputId": "1e8d622f-979a-4a51-9180-726f77e5c63a"
      },
      "execution_count": 2,
      "outputs": [
        {
          "output_type": "stream",
          "name": "stdout",
          "text": [
            "[2.999899859803725, 2.99989986983078, 2.999899879855827, 2.9998998898788667, 2.9998998998999, 2.999899909918927, 2.999899919935949, 2.9998999299509657, 2.9998999399639783, 2.9998999499749877, 2.9998999599839937, 2.9998999699909974, 2.999899979995999, 2.9998999899989998, 2.9999]\n"
          ]
        }
      ]
    },
    {
      "cell_type": "markdown",
      "source": [],
      "metadata": {
        "id": "bDfF4VwUo09h"
      }
    },
    {
      "cell_type": "markdown",
      "metadata": {
        "id": "jbtfCe_sfoW3"
      },
      "source": [
        "### Ejercicio 4 (1 punto):\n",
        "Crea un ciclo for a modo de que la salida sea la siguiente:\n",
        "\n",
        "10\n",
        "\n",
        "9\n",
        "\n",
        "8\n",
        "\n",
        "7\n",
        "\n",
        "6\n",
        "\n",
        "...\n",
        "\n",
        "2\n",
        "\n",
        "1\n",
        "\n",
        "0\n"
      ]
    },
    {
      "cell_type": "code",
      "source": [
        "#Creamos un ciclo for con i desde 0 hasta 10\n",
        "for i in range (11):\n",
        "  #Iteramos 10 veces la siguiente función\n",
        "  n = 10 - i\n",
        "  #Por cada iteración imprime el resultado obtenido\n",
        "  print (n)"
      ],
      "metadata": {
        "colab": {
          "base_uri": "https://localhost:8080/"
        },
        "id": "Vy1VMdjYo_O5",
        "outputId": "1464ab56-8ce5-489e-badb-b087e668c9b6"
      },
      "execution_count": 3,
      "outputs": [
        {
          "output_type": "stream",
          "name": "stdout",
          "text": [
            "10\n",
            "9\n",
            "8\n",
            "7\n",
            "6\n",
            "5\n",
            "4\n",
            "3\n",
            "2\n",
            "1\n",
            "0\n"
          ]
        }
      ]
    },
    {
      "cell_type": "markdown",
      "metadata": {
        "id": "Hdynr2X2foW4"
      },
      "source": [
        "### Puntos extras, este ejercicio es opcional (2 puntos):\n",
        "Crea un codigo para calcular el producto punto de dos vectores $\\vec{\\omega}$ y $\\vec{\\eta}$ de dimensión $3$. No vale usar librerias externas, debes hacerlo con ciclos for.\n",
        "\n",
        "Donde $\\vec{\\omega} = (10, 2, -3)$ y $\\vec{\\eta} = (5, -5, 1)$\n",
        "\n",
        "El producto punto de los vectores $\\vec{\\omega}$ y $\\vec{\\eta}$ se define como:\n",
        "$$<\\vec{\\omega},\\vec{\\eta}> = \\vec{\\omega} \\cdot \\vec{\\eta} = \\omega_{1}\\eta_{1} + \\omega_{2}\\eta_{2} + \\omega_{3}\\eta_{3} = 10*5 + 2*(-5) + (-3)*1=37$$"
      ]
    },
    {
      "cell_type": "code",
      "source": [
        "#Definimos los valores del vector w y del vector n\n",
        "w = [10, 2, -3]\n",
        "n = [5, -5, 1]\n",
        "\n",
        "#Establecemos el valor de una variable, en este caso nos ayudará posteriormente para hacer el cálculo\n",
        "dotproduct = 0\n",
        "\n",
        "#Creamos el ciclo for con el comando zip, pues La función zip()toma como argumentos dos o más objetos iterables. El resultado de pasar dos listas a zip() será una tupla en la que cada uno de sus elementos contendrá los valores de la primera y segunda lista fusionados en el orden que ocupaban los objetos iterables originales (el primero con el primero, el segundo con el segundo…).\n",
        "for w,n in zip(w,n):\n",
        "  #Realizamos la operación de producto punto con los vectores w y n \n",
        "  dotproduct = dotproduct + (w*n)\n",
        "\n",
        "#Imprimimos el valor de la operación\n",
        "print (\"El producto punto de w y n es\", dotproduct)"
      ],
      "metadata": {
        "colab": {
          "base_uri": "https://localhost:8080/"
        },
        "id": "QFPcf_hupRfV",
        "outputId": "0b01b163-9fa1-4468-eba1-3cba052230e5"
      },
      "execution_count": 5,
      "outputs": [
        {
          "output_type": "stream",
          "name": "stdout",
          "text": [
            "El producto punto de w y n es 37\n"
          ]
        }
      ]
    }
  ],
  "metadata": {
    "kernelspec": {
      "display_name": "Python 3.9.13 ('base')",
      "language": "python",
      "name": "python3"
    },
    "language_info": {
      "codemirror_mode": {
        "name": "ipython",
        "version": 3
      },
      "file_extension": ".py",
      "mimetype": "text/x-python",
      "name": "python",
      "nbconvert_exporter": "python",
      "pygments_lexer": "ipython3",
      "version": "3.9.13"
    },
    "orig_nbformat": 4,
    "vscode": {
      "interpreter": {
        "hash": "ad2bdc8ecc057115af97d19610ffacc2b4e99fae6737bb82f5d7fb13d2f2c186"
      }
    },
    "colab": {
      "provenance": []
    }
  },
  "nbformat": 4,
  "nbformat_minor": 0
}